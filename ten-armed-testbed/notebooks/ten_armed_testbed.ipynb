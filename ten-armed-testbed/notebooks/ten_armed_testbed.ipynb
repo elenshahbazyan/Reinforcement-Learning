{
 "cells": [
  {
   "cell_type": "markdown",
   "source": [
    "# 10-armed Testbed"
   ],
   "metadata": {
    "collapsed": false
   },
   "id": "cada6500ddd403c4"
  },
  {
   "cell_type": "code",
   "id": "initial_id",
   "metadata": {
    "collapsed": true,
    "ExecuteTime": {
     "end_time": "2025-03-02T09:52:42.824376Z",
     "start_time": "2025-03-02T09:52:42.087045Z"
    }
   },
   "source": [
    "import numpy as np\n",
    "from tqdm import trange\n",
    "import matplotlib\n",
    "import matplotlib.pyplot as plt\n",
    "import sys\n",
    "sys.path.append(r\"C:\\Users\\User\\PycharmProjects\\Reinforcement-Learning\\ten-armed-testbed\")\n",
    "\n",
    "from src.bandit import Bandit\n",
    "\n",
    "matplotlib.use('Agg')"
   ],
   "outputs": [],
   "execution_count": 2
  },
  {
   "cell_type": "code",
   "source": [
    "def simulate(runs, times, bandits):\n",
    "    # region Summary\n",
    "    \"\"\"\n",
    "    For any learning method, we can measure its performance and behavior as it improves with experience over 1000 time steps \n",
    "    when applied to 1 of the bandit problems. This makes up 1 run. Repeating this for 2000 independent runs, each with a different \n",
    "    bandit problem, we obtained measures of the learning algorithm’s average behavior.\n",
    "    :param runs: Number of runs\n",
    "    :param times: Number of times\n",
    "    :param bandits: Bandit problems\n",
    "    :return: Optimal action count mean and reward mean\n",
    "    \"\"\"\n",
    "    # endregion Summary\n",
    "    \n",
    "    # region Body\n",
    "    \n",
    "    # Prepare a matrix filled with 0s for rewards\n",
    "    rewards = np.zeros((len(bandits),runs, times))\n",
    "    \n",
    "    # Prepare a matrix filled with 0s for optimal action counts that has the same shape as rewards matrix\n",
    "    optimal_action_counts = np.zeros(rewards.shape)\n",
    "\n",
    "    for i,bandit in enumerate(bandits):\n",
    "        # for every run\n",
    "        for run in trange(runs):\n",
    "            # initialize bandit\n",
    "            bandit.initialize()\n",
    "\n",
    "            # for every time step\n",
    "            for time in trange(times):\n",
    "                # select an action\n",
    "                action = bandit.act()\n",
    "                # get the reward\n",
    "                rewards [i, run,time] = bandit.step(action)\n",
    "\n",
    "                # if the selected action is optimal for bandit\n",
    "                if action == bandit.optimal_action:\n",
    "                    # change the corresponding 0 in the optimal action counts matrix to 1\n",
    "                    optimal_action_counts [i ,run,time] = 1\n",
    "\n",
    "    return optimal_action_counts.mean(axis = 1), rewards.mean(axis=1)\n",
    "\n",
    "\n",
    "    # endregion Body"
   ],
   "metadata": {
    "collapsed": false,
    "ExecuteTime": {
     "end_time": "2025-03-02T09:52:56.106119Z",
     "start_time": "2025-03-02T09:52:56.099130Z"
    }
   },
   "id": "be09fd89ebd40d84",
   "outputs": [],
   "execution_count": 3
  },
  {
   "cell_type": "markdown",
   "source": [
    "## 1. Reward Distribution"
   ],
   "metadata": {
    "collapsed": false
   },
   "id": "4088366f60e51478"
  },
  {
   "cell_type": "code",
   "source": [
    "# Plot an example reward distribution\n",
    "plt.violinplot(dataset=np.random.randn(200, 10) + np.random.randn(10))\n",
    "plt.title(\"Figure 2.1\")\n",
    "plt.xlabel(\"Action\")\n",
    "plt.ylabel(\"Reward distribution\")\n",
    "plt.savefig(\"../generated_images/figure_2_1.png\")\n",
    "plt.close()"
   ],
   "metadata": {
    "collapsed": false,
    "ExecuteTime": {
     "end_time": "2025-03-02T09:53:02.063320Z",
     "start_time": "2025-03-02T09:53:01.706583Z"
    }
   },
   "id": "8ed1daafa4064440",
   "outputs": [],
   "execution_count": 4
  },
  {
   "cell_type": "markdown",
   "source": [
    "## 2. Greedy Action Selection VS ε-greedy Action Selection"
   ],
   "metadata": {
    "collapsed": false
   },
   "id": "ef67eb7574c5d2b1"
  },
  {
   "cell_type": "code",
   "source": [
    "# Create a list of epsilons with 0, 0.1 and 0.01 values\n",
    "epsilons = [0,0.1,0.01]\n",
    "\n",
    "# Create a list of bandits (1 bandit for every epsilon) where every bandit uses sample-average method\n",
    "bandits = [Bandit(epsilon=epsilon ,use_sample_averages=True) for epsilon in epsilons]"
   ],
   "metadata": {
    "collapsed": false,
    "ExecuteTime": {
     "end_time": "2025-03-02T09:53:06.485231Z",
     "start_time": "2025-03-02T09:53:06.477990Z"
    }
   },
   "id": "6a180bc790c31e65",
   "outputs": [],
   "execution_count": 5
  },
  {
   "cell_type": "code",
   "source": [
    "# Define number of runs\n",
    "runs = 2000\n",
    "\n",
    "# Define number of times\n",
    "times = 1000\n",
    "# Simulate optimal action counts and rewards\n",
    "optimal_action_counts, rewards = simulate(runs, times, bandits)"
   ],
   "metadata": {
    "collapsed": false,
    "ExecuteTime": {
     "end_time": "2025-03-02T09:53:08.847385Z",
     "start_time": "2025-03-02T09:53:08.299281Z"
    }
   },
   "id": "683805477a8d4606",
   "outputs": [
    {
     "name": "stderr",
     "output_type": "stream",
     "text": [
      "  0%|          | 0/20 [00:00<?, ?it/s]\n",
      "100%|██████████| 10/10 [00:00<?, ?it/s][A\n",
      "\n",
      "100%|██████████| 10/10 [00:00<?, ?it/s][A\n",
      "\n",
      "100%|██████████| 10/10 [00:00<?, ?it/s][A\n",
      "\n",
      "100%|██████████| 10/10 [00:00<?, ?it/s][A\n",
      "\n",
      "100%|██████████| 10/10 [00:00<00:00, 4511.46it/s]\n",
      "\n",
      "100%|██████████| 10/10 [00:00<?, ?it/s][A\n",
      "\n",
      "100%|██████████| 10/10 [00:00<00:00, 4984.32it/s]\n",
      "\n",
      "100%|██████████| 10/10 [00:00<00:00, 4987.87it/s]\n",
      "\n",
      "100%|██████████| 10/10 [00:00<00:00, 4986.69it/s]\n",
      "\n",
      "100%|██████████| 10/10 [00:00<00:00, 4986.69it/s]\n",
      "\n",
      "100%|██████████| 10/10 [00:00<00:00, 4986.10it/s]\n",
      "\n",
      "100%|██████████| 10/10 [00:00<?, ?it/s][A\n",
      "\n",
      "100%|██████████| 10/10 [00:00<?, ?it/s][A\n",
      "\n",
      "100%|██████████| 10/10 [00:00<?, ?it/s][A\n",
      " 70%|███████   | 14/20 [00:00<00:00, 135.73it/s]\n",
      "100%|██████████| 10/10 [00:00<00:00, 4978.99it/s]\n",
      "\n",
      "100%|██████████| 10/10 [00:00<00:00, 4987.87it/s]\n",
      "\n",
      "100%|██████████| 10/10 [00:00<00:00, 3320.64it/s]\n",
      "\n",
      "100%|██████████| 10/10 [00:00<?, ?it/s][A\n",
      "\n",
      "100%|██████████| 10/10 [00:00<00:00, 18220.26it/s]\n",
      "\n",
      "100%|██████████| 10/10 [00:00<00:00, 18493.40it/s]\n",
      "100%|██████████| 20/20 [00:00<00:00, 132.80it/s]\n",
      "  0%|          | 0/20 [00:00<?, ?it/s]\n",
      "100%|██████████| 10/10 [00:00<?, ?it/s][A\n",
      "\n",
      "100%|██████████| 10/10 [00:00<?, ?it/s][A\n",
      "\n",
      "100%|██████████| 10/10 [00:00<00:00, 4983.73it/s]\n",
      "\n",
      "100%|██████████| 10/10 [00:00<00:00, 4969.55it/s]\n",
      "\n",
      "100%|██████████| 10/10 [00:00<?, ?it/s][A\n",
      "\n",
      "100%|██████████| 10/10 [00:00<?, ?it/s][A\n",
      "\n",
      "100%|██████████| 10/10 [00:00<00:00, 9929.70it/s]\n",
      "\n",
      "100%|██████████| 10/10 [00:00<00:00, 4987.87it/s]\n",
      "\n",
      "100%|██████████| 10/10 [00:00<?, ?it/s][A\n",
      "\n",
      "100%|██████████| 10/10 [00:00<00:00, 847.15it/s]\n",
      "\n",
      "100%|██████████| 10/10 [00:00<?, ?it/s][A\n",
      "\n",
      "100%|██████████| 10/10 [00:00<00:00, 4890.18it/s]\n",
      "\n",
      "100%|██████████| 10/10 [00:00<00:00, 4989.06it/s]\n",
      " 65%|██████▌   | 13/20 [00:00<00:00, 126.45it/s]\n",
      "100%|██████████| 10/10 [00:00<00:00, 4987.28it/s]\n",
      "\n",
      "100%|██████████| 10/10 [00:00<?, ?it/s][A\n",
      "\n",
      "100%|██████████| 10/10 [00:00<?, ?it/s][A\n",
      "\n",
      "100%|██████████| 10/10 [00:00<?, ?it/s][A\n",
      "\n",
      "100%|██████████| 10/10 [00:00<?, ?it/s][A\n",
      "\n",
      "100%|██████████| 10/10 [00:00<?, ?it/s][A\n",
      "\n",
      "100%|██████████| 10/10 [00:00<00:00, 4983.73it/s]\n",
      "100%|██████████| 20/20 [00:00<00:00, 117.74it/s]\n",
      "  0%|          | 0/20 [00:00<?, ?it/s]\n",
      "100%|██████████| 10/10 [00:00<00:00, 1737.35it/s]\n",
      "\n",
      "100%|██████████| 10/10 [00:00<00:00, 4983.13it/s]\n",
      "\n",
      "100%|██████████| 10/10 [00:00<00:00, 4989.06it/s]\n",
      "\n",
      "100%|██████████| 10/10 [00:00<?, ?it/s][A\n",
      "\n",
      "100%|██████████| 10/10 [00:00<?, ?it/s][A\n",
      "\n",
      "100%|██████████| 10/10 [00:00<00:00, 6642.86it/s]\n",
      "\n",
      "100%|██████████| 10/10 [00:00<00:00, 1264.30it/s]\n",
      "\n",
      "100%|██████████| 10/10 [00:00<?, ?it/s][A\n",
      "\n",
      "100%|██████████| 10/10 [00:00<00:00, 4984.91it/s]\n",
      "\n",
      "100%|██████████| 10/10 [00:00<?, ?it/s][A\n",
      "\n",
      "100%|██████████| 10/10 [00:00<00:00, 4985.50it/s]\n",
      " 55%|█████▌    | 11/20 [00:00<00:00, 104.68it/s]\n",
      "100%|██████████| 10/10 [00:00<?, ?it/s][A\n",
      "\n",
      "100%|██████████| 10/10 [00:00<00:00, 6629.21it/s]\n",
      "\n",
      "100%|██████████| 10/10 [00:00<00:00, 4987.28it/s]\n",
      "\n",
      "100%|██████████| 10/10 [00:00<?, ?it/s][A\n",
      "\n",
      "100%|██████████| 10/10 [00:00<?, ?it/s][A\n",
      "\n",
      "100%|██████████| 10/10 [00:00<?, ?it/s][A\n",
      "\n",
      "100%|██████████| 10/10 [00:00<00:00, 10187.77it/s]\n",
      "\n",
      "100%|██████████| 10/10 [00:00<?, ?it/s][A\n",
      "\n",
      "100%|██████████| 10/10 [00:00<?, ?it/s][A\n",
      "100%|██████████| 20/20 [00:00<00:00, 113.66it/s]\n"
     ]
    }
   ],
   "execution_count": 6
  },
  {
   "cell_type": "code",
   "source": [
    "# Plotting\n",
    "plt.figure(figsize=(10, 20))"
   ],
   "metadata": {
    "collapsed": false,
    "ExecuteTime": {
     "end_time": "2025-03-02T09:53:18.820431Z",
     "start_time": "2025-03-02T09:53:18.811322Z"
    }
   },
   "id": "e1a86ca5f4aefa2",
   "outputs": [
    {
     "data": {
      "text/plain": [
       "<Figure size 1000x2000 with 0 Axes>"
      ]
     },
     "execution_count": 7,
     "metadata": {},
     "output_type": "execute_result"
    }
   ],
   "execution_count": 7
  },
  {
   "cell_type": "code",
   "source": [
    "plt.subplot(2, 1, 1)\n",
    "for epsilon, rewards in zip(epsilons, rewards ):\n",
    "    plt.plot(rewards, label=\"$\\epsilon = %.02f$\" % epsilon)\n",
    "plt.xlabel(\"Steps\")\n",
    "plt.ylabel(\"Average reward\")\n",
    "plt.legend()"
   ],
   "metadata": {
    "collapsed": false,
    "ExecuteTime": {
     "end_time": "2025-03-02T09:53:20.550687Z",
     "start_time": "2025-03-02T09:53:20.523238Z"
    }
   },
   "id": "5536109f4e591e72",
   "outputs": [
    {
     "name": "stderr",
     "output_type": "stream",
     "text": [
      "<>:3: SyntaxWarning: invalid escape sequence '\\e'\n",
      "<>:3: SyntaxWarning: invalid escape sequence '\\e'\n",
      "C:\\Users\\User\\AppData\\Local\\Temp\\ipykernel_14496\\1580887590.py:3: SyntaxWarning: invalid escape sequence '\\e'\n",
      "  plt.plot(rewards, label=\"$\\epsilon = %.02f$\" % epsilon)\n"
     ]
    },
    {
     "data": {
      "text/plain": [
       "<matplotlib.legend.Legend at 0x298925a09e0>"
      ]
     },
     "execution_count": 8,
     "metadata": {},
     "output_type": "execute_result"
    }
   ],
   "execution_count": 8
  },
  {
   "cell_type": "code",
   "source": [
    "plt.subplot(2, 1, 2)\n",
    "for epsilon, counts in zip(epsilons, optimal_action_counts):\n",
    "    plt.plot(counts, label=\"$\\epsilon = %.02f$\" % epsilon)\n",
    "plt.xlabel(\"Steps\")\n",
    "plt.ylabel(\"% Optimal action\")\n",
    "plt.legend()"
   ],
   "metadata": {
    "collapsed": false,
    "ExecuteTime": {
     "end_time": "2025-03-02T09:53:32.770763Z",
     "start_time": "2025-03-02T09:53:32.745109Z"
    }
   },
   "id": "2e6157d53f01223f",
   "outputs": [
    {
     "name": "stderr",
     "output_type": "stream",
     "text": [
      "<>:3: SyntaxWarning: invalid escape sequence '\\e'\n",
      "<>:3: SyntaxWarning: invalid escape sequence '\\e'\n",
      "C:\\Users\\User\\AppData\\Local\\Temp\\ipykernel_14496\\907484656.py:3: SyntaxWarning: invalid escape sequence '\\e'\n",
      "  plt.plot(counts, label=\"$\\epsilon = %.02f$\" % epsilon)\n"
     ]
    },
    {
     "data": {
      "text/plain": [
       "<matplotlib.legend.Legend at 0x298902858e0>"
      ]
     },
     "execution_count": 9,
     "metadata": {},
     "output_type": "execute_result"
    }
   ],
   "execution_count": 9
  },
  {
   "cell_type": "code",
   "source": [
    "plt.savefig(\"../generated_images/figure_2_2.png\")\n",
    "plt.close()"
   ],
   "metadata": {
    "collapsed": false,
    "ExecuteTime": {
     "end_time": "2025-03-02T09:53:40.759713Z",
     "start_time": "2025-03-02T09:53:40.258930Z"
    }
   },
   "id": "ca9dfed4b31f4579",
   "outputs": [],
   "execution_count": 10
  },
  {
   "cell_type": "markdown",
   "source": [
    "## 3. Optimistic Initial Values VS Realistic Initial Values"
   ],
   "metadata": {
    "collapsed": false
   },
   "id": "a0c5945f58dd0dee"
  },
  {
   "cell_type": "code",
   "source": [
    "# Create a list of 2 bandits where:\n",
    "# 1. 1st bandit: ε = 0, 𝑄_1(𝑎) = 5, 𝛼 = 0.1,\n",
    "# 2. 2nd bandit: ε = 0.1, 𝑄_1(𝑎) = 0, 𝛼 = 0.1\n"
   ],
   "metadata": {
    "collapsed": false,
    "is_executing": true,
    "ExecuteTime": {
     "end_time": "2025-03-02T05:20:21.457356Z",
     "start_time": "2025-03-02T05:20:21.447096Z"
    }
   },
   "id": "50d647979ced258a",
   "outputs": [],
   "execution_count": 16
  },
  {
   "cell_type": "code",
   "source": [
    "# Define number of runs\n",
    "\n",
    "\n",
    "# Define number of times\n",
    "\n",
    "\n",
    "# Simulate optimal action counts\n"
   ],
   "metadata": {
    "collapsed": false,
    "ExecuteTime": {
     "end_time": "2025-03-02T05:20:21.560817Z",
     "start_time": "2025-03-02T05:20:21.542164Z"
    }
   },
   "id": "3116e78a4c90c435",
   "outputs": [],
   "execution_count": 17
  },
  {
   "cell_type": "code",
   "source": [
    "# Plotting\n"
   ],
   "metadata": {
    "collapsed": false,
    "ExecuteTime": {
     "end_time": "2025-03-02T05:20:21.593191Z",
     "start_time": "2025-03-02T05:20:21.581351Z"
    }
   },
   "id": "d1ae633f8632eed5",
   "outputs": [],
   "execution_count": 18
  },
  {
   "cell_type": "markdown",
   "source": [
    "## 4. Upper-Confidence-Bound (UCB) Action Selection"
   ],
   "metadata": {
    "collapsed": false
   },
   "id": "7473708c239f1d0"
  },
  {
   "cell_type": "code",
   "source": [
    "# Create a list of 2 bandits where:\n",
    "# 1. 1st bandit: ε = 0, 𝑐 = 2, uses sample-average method,\n",
    "# 2. 2nd bandit: ε = 0.1, uses sample-average method\n"
   ],
   "metadata": {
    "collapsed": false,
    "ExecuteTime": {
     "end_time": "2025-03-02T05:20:21.710881Z",
     "start_time": "2025-03-02T05:20:21.696848Z"
    }
   },
   "id": "1993531b4fe5feb2",
   "outputs": [],
   "execution_count": 19
  },
  {
   "cell_type": "code",
   "source": [
    "# Define number of runs\n",
    "\n",
    "\n",
    "# Define number of times\n",
    "\n",
    "\n",
    "# Simulate average rewards\n"
   ],
   "metadata": {
    "collapsed": false,
    "ExecuteTime": {
     "end_time": "2025-03-02T05:20:21.789026Z",
     "start_time": "2025-03-02T05:20:21.759402Z"
    }
   },
   "id": "6e1fed28f6812c2e",
   "outputs": [],
   "execution_count": 20
  },
  {
   "cell_type": "code",
   "source": [
    "# Plotting\n"
   ],
   "metadata": {
    "collapsed": false,
    "ExecuteTime": {
     "end_time": "2025-03-02T05:20:21.812633Z",
     "start_time": "2025-03-02T05:20:21.802770Z"
    }
   },
   "id": "9d4db60f0153c024",
   "outputs": [],
   "execution_count": 21
  },
  {
   "cell_type": "markdown",
   "source": [
    "## 5. Gradient Bandit Algorithms (GBA)"
   ],
   "metadata": {
    "collapsed": false
   },
   "id": "b5cb31b7d224bbba"
  },
  {
   "cell_type": "code",
   "source": [
    "# Create a list of 4 bandits where:\n",
    "# 1. 1st bandit: uses GBA, 𝛼 = 0.1, uses average reward as baseline for GBA, expects true reward of 4,\n",
    "# 2. 2nd bandit: uses GBA, 𝛼 = 0.1, doesn't use average reward as baseline for GBA, expects true reward of 4,\n",
    "# 3. 3rd bandit: uses GBA, 𝛼 = 0.4, uses average reward as baseline for GBA, expects true reward of 4,\n",
    "# 4. 4th bandit: uses GBA, 𝛼 = 0.4, doesn't use average reward as baseline for GBA, expects true reward of 4\n"
   ],
   "metadata": {
    "collapsed": false,
    "ExecuteTime": {
     "end_time": "2025-03-02T05:20:21.883755Z",
     "start_time": "2025-03-02T05:20:21.870922Z"
    }
   },
   "id": "1453e8fb0e6a32f6",
   "outputs": [],
   "execution_count": 22
  },
  {
   "cell_type": "code",
   "source": [
    "# Define number of runs\n",
    "\n",
    "\n",
    "# Define number of times\n",
    "\n",
    "\n",
    "# Simulate optimal action counts\\\n"
   ],
   "metadata": {
    "collapsed": false,
    "ExecuteTime": {
     "end_time": "2025-03-02T05:20:21.918607Z",
     "start_time": "2025-03-02T05:20:21.903558Z"
    }
   },
   "id": "79a2acb7e523f0a8",
   "outputs": [],
   "execution_count": 23
  },
  {
   "cell_type": "code",
   "source": [
    "# Labels\n"
   ],
   "metadata": {
    "collapsed": false,
    "ExecuteTime": {
     "end_time": "2025-03-02T05:20:21.974738Z",
     "start_time": "2025-03-02T05:20:21.961776Z"
    }
   },
   "id": "67282242fae58cb9",
   "outputs": [],
   "execution_count": 24
  },
  {
   "cell_type": "code",
   "source": [
    "# Plotting\n"
   ],
   "metadata": {
    "collapsed": false,
    "ExecuteTime": {
     "end_time": "2025-03-02T05:20:22.044108Z",
     "start_time": "2025-03-02T05:20:22.026272Z"
    }
   },
   "id": "2281e1a4dc8f1b9c",
   "outputs": [],
   "execution_count": 25
  },
  {
   "cell_type": "code",
   "source": [],
   "metadata": {
    "collapsed": false,
    "ExecuteTime": {
     "end_time": "2025-03-02T05:20:22.093146Z",
     "start_time": "2025-03-02T05:20:22.081612Z"
    }
   },
   "id": "974417449ca9770c",
   "outputs": [],
   "execution_count": null
  }
 ],
 "metadata": {
  "kernelspec": {
   "display_name": "Python 3",
   "language": "python",
   "name": "python3"
  },
  "language_info": {
   "codemirror_mode": {
    "name": "ipython",
    "version": 2
   },
   "file_extension": ".py",
   "mimetype": "text/x-python",
   "name": "python",
   "nbconvert_exporter": "python",
   "pygments_lexer": "ipython2",
   "version": "2.7.6"
  }
 },
 "nbformat": 4,
 "nbformat_minor": 5
}
